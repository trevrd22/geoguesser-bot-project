{
 "cells": [
  {
   "cell_type": "markdown",
   "id": "851bcc0c",
   "metadata": {},
   "source": [
    "### Project Road Map ###\n",
    "\n",
    "0. Install Anaconda/Miniconda if you have not and set it up to use it as your kernel.\n",
    "\n",
    "1. Obtain and configure a pre-trained CNN\n",
    "\n",
    "2. Import and configure a google streetview dataset\n",
    "\n",
    "3. Create helper functions to allow for more efficient model training and experimentation and install weights and biases visualizer to integrate in functions.\n",
    "\n",
    "4. Run, compare, and bugfix to attain < 1 km accuracy"
   ]
  },
  {
   "cell_type": "markdown",
   "id": "15204db9",
   "metadata": {},
   "source": [
    "## 1. Obtain and configure a pre-trained CNN ##"
   ]
  },
  {
   "cell_type": "markdown",
   "id": "1f905597",
   "metadata": {},
   "source": [
    "Import a CNN Model from Pytorch Vision"
   ]
  },
  {
   "cell_type": "code",
   "execution_count": 2,
   "id": "ed3acad8",
   "metadata": {},
   "outputs": [
    {
     "name": "stdout",
     "output_type": "stream",
     "text": [
      "c:\\Users\\Trevor Drummond\\miniconda3\\envs\\geoguessr\\Lib\\site-packages\\torch\\__init__.py\n"
     ]
    }
   ],
   "source": [
    "import torch\n",
    "print(torch.__file__)\n",
    "import torchvision\n",
    "%matplotlib inline\n",
    "import matplotlib.pyplot as plt\n",
    "from torch import nn\n",
    "from torchvision import transforms\n",
    "from torchinfo import summary\n"
   ]
  }
 ],
 "metadata": {
  "kernelspec": {
   "display_name": "geoguessr",
   "language": "python",
   "name": "python3"
  },
  "language_info": {
   "codemirror_mode": {
    "name": "ipython",
    "version": 3
   },
   "file_extension": ".py",
   "mimetype": "text/x-python",
   "name": "python",
   "nbconvert_exporter": "python",
   "pygments_lexer": "ipython3",
   "version": "3.12.11"
  }
 },
 "nbformat": 4,
 "nbformat_minor": 5
}
