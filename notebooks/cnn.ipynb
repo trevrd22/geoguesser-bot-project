{
 "cells": [
  {
   "cell_type": "markdown",
   "id": "851bcc0c",
   "metadata": {},
   "source": [
    "### Project Road Map ###\n",
    "\n",
    "0. Install Anaconda/Miniconda if you have not and set it up to use it as your kernel.\n",
    "\n",
    "1. Obtain and configure a pre-trained CNN\n",
    "\n",
    "2. Import and configure a google streetview dataset\n",
    "\n",
    "3. Create helper functions to allow for more efficient model training and experimentation and install weights and biases visualizer to integrate in functions.\n",
    "\n",
    "4. Run, compare, and bugfix to attain < 1 km accuracy"
   ]
  },
  {
   "cell_type": "markdown",
   "id": "15204db9",
   "metadata": {},
   "source": [
    "## 1. Obtain and configure a pre-trained CNN ##"
   ]
  },
  {
   "cell_type": "markdown",
   "id": "1f905597",
   "metadata": {},
   "source": [
    "Import a CNN Model from Pytorch Vision"
   ]
  },
  {
   "cell_type": "code",
   "execution_count": 2,
   "id": "ed3acad8",
   "metadata": {},
   "outputs": [
    {
     "ename": "ModuleNotFoundError",
     "evalue": "No module named 'torch'",
     "output_type": "error",
     "traceback": [
      "\u001b[31m---------------------------------------------------------------------------\u001b[39m",
      "\u001b[31mModuleNotFoundError\u001b[39m                       Traceback (most recent call last)",
      "\u001b[36mCell\u001b[39m\u001b[36m \u001b[39m\u001b[32mIn[2]\u001b[39m\u001b[32m, line 1\u001b[39m\n\u001b[32m----> \u001b[39m\u001b[32m1\u001b[39m \u001b[38;5;28;01mimport\u001b[39;00m\u001b[38;5;250m \u001b[39m\u001b[34;01mtorch\u001b[39;00m\n\u001b[32m      2\u001b[39m \u001b[38;5;28mprint\u001b[39m(torch.\u001b[34m__file__\u001b[39m)\n\u001b[32m      3\u001b[39m \u001b[38;5;28;01mimport\u001b[39;00m\u001b[38;5;250m \u001b[39m\u001b[34;01mtorchvision\u001b[39;00m\n",
      "\u001b[31mModuleNotFoundError\u001b[39m: No module named 'torch'"
     ]
    }
   ],
   "source": [
    "import torch\n",
    "print(torch.__file__)\n",
    "import torchvision\n",
    "%matplotlib inline\n",
    "import matplotlib.pyplot as plt\n",
    "from torch import nn\n",
    "from torchvision import transforms\n",
    "from torchvision.models import resnet50, ResNet50_Weights\n",
    "from torchinfo import summary\n",
    "\n",
    "#this makes it so that if your gpu is available the model will use it\n",
    "device = \"cuda\" if torch.cuda.is_available() else \"cpu\"\n",
    "\n",
    "#create model as a child of nn.Module\n",
    "class GeoClassifier(nn.Module):\n",
    "    def __init__ (self,num_countries,num_regions,num_subregions):\n",
    "        super().__init__()\n",
    "        \n",
    "        #load resnet backbone and remove imagenet classifier, replacing it with nn.Identity which acts as a dummy layer\n",
    "        self.backbone = resnet50(weights = ResNet50_Weights)\n",
    "        self.backbone.fc = nn.Identity()\n",
    "        \n",
    "        #freeze feature layers\n",
    "        for param in self.features.parameters():\n",
    "            param.requires_grad=False\n",
    "        \n",
    "        \n",
    "        #create a shared fully connected layer to reduce dimensionality (make it easier for the model to learn patterns, may revisit later)\n",
    "        self.shared_fc = nn.Linear(2048,512)\n",
    "        \n",
    "        #create three hierarchical classification heads that rely on the previous label, this is our guessing output!\n",
    "        self.country_head = nn.Linear(512, num_countries) #takes in the 512 inputs spit out by the previous layer and selects from the number of countries we have\n",
    "        self.region_head = nn.Linear(512 + num_countries, num_regions) #makes it so that we can feed this layer the 512 values that come from the features layer, as well as the result of the countries label\n",
    "        self.subregion_head = nn.Linear(512 + num_regions, num_subregions)\n",
    "        \n",
    "        #add a final regression head that predicts the lat and lon the photo is offset from the selected subregion\n",
    "        self.coord_regressor = nn.Linear(512 + num_subregions, 2)\n",
    "        \n",
    "    def forward(self, x):\n",
    "        \n",
    "        #extract image features from the resnet backbone\n",
    "        x = self.backbone(x)\n",
    "        x = self.shared_fc(x)\n",
    "        \n",
    "        #predict country\n",
    "        country_logits = self.country_head(x)\n",
    "        country_soft = torch.softmax(country_logits, dim = 1) #converting for a logits (numeric value) to a probability, these are used internally to influence the next guess, but not exported\n",
    "        \n",
    "        #predict region conditioned on country\n",
    "        region_input = torch.cat([x,country_soft], dim = 1) #concatenates the features pulled from the features layer with the probabilities of which country is most likely\n",
    "        region_logits = self.region_head(region_input)\n",
    "        region_soft = torch.softmax(region_logits, dim = 1)\n",
    "        \n",
    "        #predict region conditioned on country\n",
    "        subregion_input = torch.cat([x,region_soft], dim = 1)\n",
    "        subregion_logits = self.subregion_head(subregion_input)\n",
    "        subregion_soft = torch.softmax(subregion_logits, dim = 1)\n",
    "        \n",
    "        #predict coord deltas conditioned on city\n",
    "        coord_input = torch.cat([x,subregion_soft], dim = 1)\n",
    "        delta_coords = self.coord_regressor(coord_input)\n",
    "        \n",
    "        return {\n",
    "    \"country_logits\": country_logits,\n",
    "    \"region_logits\": region_logits,\n",
    "    \"city_logits\": subregion_logits,\n",
    "    \"delta_coords\": delta_coords\n",
    "}\n",
    "        \n",
    "        \n",
    "\n",
    "\n",
    "#checking output\n",
    "model = GeoClassifier(1,1,1).to(device)\n",
    "summary(model = model, input_size = (32,3,224,224), col_names = [\"input_size\",\"output_size\",\"num_params\",\"trainable\"], col_width = 20, row_settings=[\"var_names\"])\n"
   ]
  }
 ],
 "metadata": {
  "kernelspec": {
   "display_name": "Python 3",
   "language": "python",
   "name": "python3"
  },
  "language_info": {
   "codemirror_mode": {
    "name": "ipython",
    "version": 3
   },
   "file_extension": ".py",
   "mimetype": "text/x-python",
   "name": "python",
   "nbconvert_exporter": "python",
   "pygments_lexer": "ipython3",
   "version": "3.11.13"
  }
 },
 "nbformat": 4,
 "nbformat_minor": 5
}
